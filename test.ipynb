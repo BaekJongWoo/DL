{
 "cells": [
  {
   "cell_type": "code",
   "execution_count": 5,
   "metadata": {},
   "outputs": [
    {
     "ename": "AttributeError",
     "evalue": "'tuple' object has no attribute 'shape'",
     "output_type": "error",
     "traceback": [
      "\u001b[1;31m---------------------------------------------------------------------------\u001b[0m",
      "\u001b[1;31mAttributeError\u001b[0m                            Traceback (most recent call last)",
      "Cell \u001b[1;32mIn[5], line 5\u001b[0m\n\u001b[0;32m      2\u001b[0m \u001b[38;5;28;01mimport\u001b[39;00m \u001b[38;5;21;01mmatplotlib\u001b[39;00m\u001b[38;5;21;01m.\u001b[39;00m\u001b[38;5;21;01mpyplot\u001b[39;00m \u001b[38;5;28;01mas\u001b[39;00m \u001b[38;5;21;01mplt\u001b[39;00m\n\u001b[0;32m      4\u001b[0m dataloader \u001b[38;5;241m=\u001b[39m Dataloader(\u001b[38;5;124m'\u001b[39m\u001b[38;5;124mdataset\u001b[39m\u001b[38;5;124m'\u001b[39m, is_train\u001b[38;5;241m=\u001b[39m\u001b[38;5;28;01mFalse\u001b[39;00m, batch_size\u001b[38;5;241m=\u001b[39m\u001b[38;5;241m1\u001b[39m)\n\u001b[1;32m----> 5\u001b[0m \u001b[38;5;28mprint\u001b[39m(\u001b[43mdataloader\u001b[49m\u001b[43m[\u001b[49m\u001b[38;5;241;43m0\u001b[39;49m\u001b[43m]\u001b[49m\u001b[38;5;241;43m.\u001b[39;49m\u001b[43mshape\u001b[49m)\n",
      "\u001b[1;31mAttributeError\u001b[0m: 'tuple' object has no attribute 'shape'"
     ]
    }
   ],
   "source": [
    "from dataset.dataloader import Dataloader\n",
    "import matplotlib.pyplot as plt\n",
    "\n",
    "dataloader = Dataloader('dataset', is_train=False, batch_size=1)\n",
    "print(dataloader[0][1].shape)"
   ]
  },
  {
   "cell_type": "code",
   "execution_count": 9,
   "metadata": {},
   "outputs": [
    {
     "name": "stdout",
     "output_type": "stream",
     "text": [
      "[[0.86738383 0.4564176  0.46105446 0.78916537 0.61046371 0.50448073\n",
      "  0.22500652 0.46367903 0.7690376  0.30287389]\n",
      " [0.90575038 0.72027418 0.09588095 0.83970374 0.52003995 0.48160241\n",
      "  0.81085096 0.95651589 0.5875578  0.23849374]\n",
      " [0.02911643 0.488122   0.15379991 0.80531093 0.78480917 0.16809786\n",
      "  0.94595873 0.51028846 0.59120255 0.21730572]\n",
      " [0.72446316 0.08422608 0.14964205 0.40489577 0.63052625 0.90094405\n",
      "  0.36129293 0.68271909 0.37401213 0.21822503]\n",
      " [0.30121836 0.79451426 0.70295948 0.45932948 0.63672475 0.79571677\n",
      "  0.90842039 0.1876261  0.1887944  0.79416092]\n",
      " [0.09278847 0.24184464 0.7351042  0.91400081 0.40535715 0.07355003\n",
      "  0.90256729 0.71915357 0.03884078 0.27440109]\n",
      " [0.03791628 0.20168816 0.58730549 0.15259547 0.39191143 0.78631151\n",
      "  0.03473945 0.37779006 0.92281582 0.89751664]\n",
      " [0.33226093 0.0383227  0.62488988 0.18104683 0.64020744 0.94647743\n",
      "  0.11742836 0.50738932 0.8544707  0.35132139]]\n"
     ]
    }
   ],
   "source": [
    "import numpy as np\n",
    "\n",
    "batch_size = 8\n",
    "input_size = 10\n",
    "output_size = 2\n",
    "\n",
    "x = np.random.rand(batch_size, input_size)\n",
    "W = np.random.rand(input_size, output_size)\n",
    "b = np.random.rand(1, output_size)\n",
    "\n",
    "y = np.dot(x, W) + b\n",
    "print(x)"
   ]
  }
 ],
 "metadata": {
  "kernelspec": {
   "display_name": "Python 3",
   "language": "python",
   "name": "python3"
  },
  "language_info": {
   "codemirror_mode": {
    "name": "ipython",
    "version": 3
   },
   "file_extension": ".py",
   "mimetype": "text/x-python",
   "name": "python",
   "nbconvert_exporter": "python",
   "pygments_lexer": "ipython3",
   "version": "3.11.9"
  }
 },
 "nbformat": 4,
 "nbformat_minor": 2
}
